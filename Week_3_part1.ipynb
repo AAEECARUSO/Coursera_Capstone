{
    "cells": [
        {
            "cell_type": "code",
            "execution_count": 7,
            "metadata": {},
            "outputs": [
                {
                    "data": {
                        "text/plain": "(103, 3)"
                    },
                    "execution_count": 7,
                    "metadata": {},
                    "output_type": "execute_result"
                }
            ],
            "source": "\n\nimport json\nimport folium\nimport requests\nimport numpy as np\nimport pandas as pd\nimport matplotlib.cm as cm\nfrom bs4 import BeautifulSoup\nfrom urllib.request import urlopen\nimport matplotlib.colors as colors\nfrom sklearn.cluster import KMeans\nfrom geopy.geocoders import Nominatim # convert an address into latitude and longitude values\nfrom pandas.io.json import json_normalize # tranform JSON file into a pandas dataframe\n\n\nurl = \"https://en.wikipedia.org/wiki/List_of_postal_codes_of_Canada:_M\"\n\npd.set_option('display.max_columns', None)\npd.set_option('display.max_rows', None)\n\nhtml = urlopen(url)\nsoup = BeautifulSoup(html, 'html.parser')\ntables = soup.find_all('table')\n\npostal_codes = []\nBorough = []\nNeighborhood = []\n\nfor table in tables:\n    rows = table.find_all('tr')\n    \n    for row in rows:\n        cells = row.find_all('td')\n\n        if len(cells) > 1:\n            rank = cells[0]\n            rr = rank.text.strip()\n            if \"M\" in rr:\n                postal_codes.append(rank.text.strip())\n            else:\n                continue\n\n            country = cells[1]\n            Borough.append(country.text.strip())\n\n            rate = cells[2]\n            Neighborhood.append(rate.text.strip())\n\n            \n\npostal_codes.pop()\nBorough.pop()\nNeighborhood.pop()\n\nidx = list(range(len(postal_codes)))\n\ndf = pd.DataFrame(postal_codes, index=idx, columns = ['postal_codes'])\ndf['Borough'] = Borough\ndf['Neighborhood'] = Neighborhood\ndf = df[df.Borough != 'Not assigned'].reset_index(drop=True)\ndf = df.groupby(['postal_codes','Borough'], as_index=False).agg(lambda x: ','.join(x))\nmask = df['Neighborhood'] == \"Not assigned\"\ndf.loc[mask, 'Neighborhood'] = df.loc[mask, 'Borough']\ndf.shape"
        },
        {
            "cell_type": "code",
            "execution_count": null,
            "metadata": {},
            "outputs": [],
            "source": ""
        }
    ],
    "metadata": {
        "kernelspec": {
            "display_name": "Python 3.7",
            "language": "python",
            "name": "python3"
        },
        "language_info": {
            "codemirror_mode": {
                "name": "ipython",
                "version": 3
            },
            "file_extension": ".py",
            "mimetype": "text/x-python",
            "name": "python",
            "nbconvert_exporter": "python",
            "pygments_lexer": "ipython3",
            "version": "3.7.9"
        }
    },
    "nbformat": 4,
    "nbformat_minor": 1
}