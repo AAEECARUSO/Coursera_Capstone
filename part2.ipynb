{
    "cells": [
        {
            "cell_type": "code",
            "execution_count": 1,
            "metadata": {},
            "outputs": [
                {
                    "data": {
                        "text/html": "<div>\n<style scoped>\n    .dataframe tbody tr th:only-of-type {\n        vertical-align: middle;\n    }\n\n    .dataframe tbody tr th {\n        vertical-align: top;\n    }\n\n    .dataframe thead th {\n        text-align: right;\n    }\n</style>\n<table border=\"1\" class=\"dataframe\">\n  <thead>\n    <tr style=\"text-align: right;\">\n      <th></th>\n      <th>PostalCode</th>\n      <th>Borough</th>\n      <th>Neighborhood</th>\n      <th>Latitude</th>\n      <th>Longitude</th>\n    </tr>\n  </thead>\n  <tbody>\n    <tr>\n      <th>0</th>\n      <td>M1B</td>\n      <td>Scarborough</td>\n      <td>Malvern, Rouge</td>\n      <td>43.806686</td>\n      <td>-79.194353</td>\n    </tr>\n    <tr>\n      <th>1</th>\n      <td>M1C</td>\n      <td>Scarborough</td>\n      <td>Rouge Hill, Port Union, Highland Creek</td>\n      <td>43.784535</td>\n      <td>-79.160497</td>\n    </tr>\n    <tr>\n      <th>2</th>\n      <td>M1E</td>\n      <td>Scarborough</td>\n      <td>Guildwood, Morningside, West Hill</td>\n      <td>43.763573</td>\n      <td>-79.188711</td>\n    </tr>\n    <tr>\n      <th>3</th>\n      <td>M1G</td>\n      <td>Scarborough</td>\n      <td>Woburn</td>\n      <td>43.770992</td>\n      <td>-79.216917</td>\n    </tr>\n    <tr>\n      <th>4</th>\n      <td>M1H</td>\n      <td>Scarborough</td>\n      <td>Cedarbrae</td>\n      <td>43.773136</td>\n      <td>-79.239476</td>\n    </tr>\n    <tr>\n      <th>5</th>\n      <td>M1J</td>\n      <td>Scarborough</td>\n      <td>Scarborough Village</td>\n      <td>43.744734</td>\n      <td>-79.239476</td>\n    </tr>\n    <tr>\n      <th>6</th>\n      <td>M1K</td>\n      <td>Scarborough</td>\n      <td>Kennedy Park, Ionview, East Birchmount Park</td>\n      <td>43.727929</td>\n      <td>-79.262029</td>\n    </tr>\n    <tr>\n      <th>7</th>\n      <td>M1L</td>\n      <td>Scarborough</td>\n      <td>Golden Mile, Clairlea, Oakridge</td>\n      <td>43.711112</td>\n      <td>-79.284577</td>\n    </tr>\n    <tr>\n      <th>8</th>\n      <td>M1M</td>\n      <td>Scarborough</td>\n      <td>Cliffside, Cliffcrest, Scarborough Village West</td>\n      <td>43.716316</td>\n      <td>-79.239476</td>\n    </tr>\n    <tr>\n      <th>9</th>\n      <td>M1N</td>\n      <td>Scarborough</td>\n      <td>Birch Cliff, Cliffside West</td>\n      <td>43.692657</td>\n      <td>-79.264848</td>\n    </tr>\n    <tr>\n      <th>10</th>\n      <td>M1P</td>\n      <td>Scarborough</td>\n      <td>Dorset Park, Wexford Heights, Scarborough Town...</td>\n      <td>43.757410</td>\n      <td>-79.273304</td>\n    </tr>\n    <tr>\n      <th>11</th>\n      <td>M1R</td>\n      <td>Scarborough</td>\n      <td>Wexford, Maryvale</td>\n      <td>43.750072</td>\n      <td>-79.295849</td>\n    </tr>\n  </tbody>\n</table>\n</div>",
                        "text/plain": "   PostalCode      Borough                                       Neighborhood  \\\n0         M1B  Scarborough                                     Malvern, Rouge   \n1         M1C  Scarborough             Rouge Hill, Port Union, Highland Creek   \n2         M1E  Scarborough                  Guildwood, Morningside, West Hill   \n3         M1G  Scarborough                                             Woburn   \n4         M1H  Scarborough                                          Cedarbrae   \n5         M1J  Scarborough                                Scarborough Village   \n6         M1K  Scarborough        Kennedy Park, Ionview, East Birchmount Park   \n7         M1L  Scarborough                    Golden Mile, Clairlea, Oakridge   \n8         M1M  Scarborough    Cliffside, Cliffcrest, Scarborough Village West   \n9         M1N  Scarborough                        Birch Cliff, Cliffside West   \n10        M1P  Scarborough  Dorset Park, Wexford Heights, Scarborough Town...   \n11        M1R  Scarborough                                  Wexford, Maryvale   \n\n     Latitude  Longitude  \n0   43.806686 -79.194353  \n1   43.784535 -79.160497  \n2   43.763573 -79.188711  \n3   43.770992 -79.216917  \n4   43.773136 -79.239476  \n5   43.744734 -79.239476  \n6   43.727929 -79.262029  \n7   43.711112 -79.284577  \n8   43.716316 -79.239476  \n9   43.692657 -79.264848  \n10  43.757410 -79.273304  \n11  43.750072 -79.295849  "
                    },
                    "execution_count": 1,
                    "metadata": {},
                    "output_type": "execute_result"
                }
            ],
            "source": "\n\nimport pandas as pd\nfrom bs4 import BeautifulSoup\nfrom urllib.request import urlopen\n\n\nurl = \"https://en.wikipedia.org/wiki/List_of_postal_codes_of_Canada:_M\"\nurl2 = 'https://cocl.us/Geospatial_data'\n\npd.set_option('display.max_columns', None)\npd.set_option('display.max_rows', None)\n\nhtml = urlopen(url)\nsoup = BeautifulSoup(html, 'html.parser')\ntables = soup.find_all('table')\n\npostal_codes = []\nBorough = []\nNeighborhood = []\n\nfor table in tables:\n    rows = table.find_all('tr')\n    \n    for row in rows:\n        cells = row.find_all('td')\n\n        if len(cells) > 1:\n            rank = cells[0]\n            rr = rank.text.strip()\n            if \"M\" in rr:\n                postal_codes.append(rank.text.strip())\n            else:\n                continue\n\n            country = cells[1]\n            Borough.append(country.text.strip())\n\n            rate = cells[2]\n            Neighborhood.append(rate.text.strip())\n\npostal_codes.pop()\nBorough.pop()\nNeighborhood.pop()\n\nidx = list(range(len(postal_codes)))\ndf = pd.DataFrame(postal_codes, index=idx, columns = ['PostalCode'])\n\ndf['Borough'] = Borough\ndf['Neighborhood'] = Neighborhood\ndf = df[df.Borough != 'Not assigned'].reset_index(drop=True)\ndf = df.groupby(['PostalCode','Borough'], as_index=False).agg(lambda x: ','.join(x))\nmask = df['Neighborhood'] == \"Not assigned\"\ndf.loc[mask, 'Neighborhood'] = df.loc[mask, 'Borough']\n\ncoords = pd.read_csv(url2)\ncoords.rename(index=str, columns={\"Postal Code\": \"PostalCode\"}, inplace = True)\ndf = pd.merge(df, coords, on='PostalCode', how='inner')\ndf.head(12)"
        }
    ],
    "metadata": {
        "kernelspec": {
            "display_name": "Python 3.7",
            "language": "python",
            "name": "python3"
        },
        "language_info": {
            "codemirror_mode": {
                "name": "ipython",
                "version": 3
            },
            "file_extension": ".py",
            "mimetype": "text/x-python",
            "name": "python",
            "nbconvert_exporter": "python",
            "pygments_lexer": "ipython3",
            "version": "3.7.9"
        }
    },
    "nbformat": 4,
    "nbformat_minor": 1
}